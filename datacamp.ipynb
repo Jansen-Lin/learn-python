{
 "cells": [
  {
   "attachments": {},
   "cell_type": "markdown",
   "metadata": {},
   "source": [
    "## Class inheritance"
   ]
  },
  {
   "cell_type": "code",
   "execution_count": 1,
   "metadata": {},
   "outputs": [],
   "source": [
    "class Employee:\n",
    "  MIN_SALARY = 30000\n",
    "\n",
    "  def __init__(self, name, salary=MIN_SALARY):\n",
    "      self.name = name\n",
    "      if salary >= Employee.MIN_SALARY:\n",
    "        self.salary = salary\n",
    "      else:\n",
    "        self.salary = Employee.MIN_SALARY\n",
    "\n",
    "  def give_raise(self, amount):\n",
    "      self.salary += amount"
   ]
  },
  {
   "cell_type": "code",
   "execution_count": 3,
   "metadata": {},
   "outputs": [
    {
     "name": "stdout",
     "output_type": "stream",
     "text": [
      "Debbie Lashko\n",
      "86500\n"
     ]
    }
   ],
   "source": [
    "# Define a new class Manager inheriting from Employee\n",
    "class Manager(Employee):\n",
    "  pass\n",
    "\n",
    "# Define a Manager object\n",
    "mng = Manager('Debbie Lashko', 86500)\n",
    "\n",
    "# Print mng's name\n",
    "print(mng.name)\n",
    "print(mng.salary)"
   ]
  },
  {
   "cell_type": "code",
   "execution_count": 8,
   "metadata": {},
   "outputs": [],
   "source": [
    "class Employee:\n",
    "  MIN_SALARY = 30000\n",
    "\n",
    "  def __init__(self, name, salary=MIN_SALARY):\n",
    "      self.name = name\n",
    "      if salary >= Employee.MIN_SALARY:\n",
    "        self.salary = salary\n",
    "      else:\n",
    "        self.salary = Employee.MIN_SALARY\n",
    "\n",
    "  def give_raise(self, amount):\n",
    "    self.salary += amount"
   ]
  },
  {
   "cell_type": "code",
   "execution_count": 9,
   "metadata": {},
   "outputs": [
    {
     "name": "stdout",
     "output_type": "stream",
     "text": [
      "Debbie Lashko\n",
      "Manager  Debbie Lashko\n"
     ]
    }
   ],
   "source": [
    "# MODIFY Manager class and add a display method\n",
    "class Manager(Employee):\n",
    "  def display(self):\n",
    "    print(\"Manager \", self.name)\n",
    "\n",
    "mng = Manager(\"Debbie Lashko\", 86500)\n",
    "print(mng.name)\n",
    "\n",
    "# Call mng.display()\n",
    "mng.display()"
   ]
  },
  {
   "cell_type": "code",
   "execution_count": null,
   "metadata": {},
   "outputs": [],
   "source": []
  },
  {
   "cell_type": "code",
   "execution_count": null,
   "metadata": {},
   "outputs": [],
   "source": []
  }
 ],
 "metadata": {
  "kernelspec": {
   "display_name": "Data_Science_2",
   "language": "python",
   "name": "python3"
  },
  "language_info": {
   "codemirror_mode": {
    "name": "ipython",
    "version": 3
   },
   "file_extension": ".py",
   "mimetype": "text/x-python",
   "name": "python",
   "nbconvert_exporter": "python",
   "pygments_lexer": "ipython3",
   "version": "3.9.11"
  },
  "orig_nbformat": 4
 },
 "nbformat": 4,
 "nbformat_minor": 2
}
